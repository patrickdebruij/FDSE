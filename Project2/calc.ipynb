{
 "cells": [
  {
   "cell_type": "code",
   "execution_count": 2,
   "metadata": {},
   "outputs": [],
   "source": [
    "import numpy as np"
   ]
  },
  {
   "cell_type": "code",
   "execution_count": 10,
   "metadata": {},
   "outputs": [
    {
     "name": "stdout",
     "output_type": "stream",
     "text": [
      "1.618676301707871e-11\n",
      "-0.01640061988228434\n",
      "-0.008267195767195767\n"
     ]
    }
   ],
   "source": [
    "R = 6371e3  # Earth's radius in meters\n",
    "Omega = 7.2921e-5  # Earth's angular velocity in radians per second\n",
    "phi = np.deg2rad(45)\n",
    "beta = 2 * Omega  * np.cos(phi) / R\n",
    "print(beta)\n",
    "\n",
    "l = 0\n",
    "k = 2 * np.pi / (200e3)\n",
    "U = 0\n",
    "c = U - beta/(k**2 + l**2)\n",
    "print(c)\n",
    "\n",
    "c_diag = U + -250e3 / (350 * 24 * 3600)\n",
    "print(c_diag)"
   ]
  },
  {
   "cell_type": "code",
   "execution_count": null,
   "metadata": {},
   "outputs": [],
   "source": []
  }
 ],
 "metadata": {
  "kernelspec": {
   "display_name": "octw",
   "language": "python",
   "name": "python3"
  },
  "language_info": {
   "codemirror_mode": {
    "name": "ipython",
    "version": 3
   },
   "file_extension": ".py",
   "mimetype": "text/x-python",
   "name": "python",
   "nbconvert_exporter": "python",
   "pygments_lexer": "ipython3",
   "version": "3.11.13"
  }
 },
 "nbformat": 4,
 "nbformat_minor": 2
}
